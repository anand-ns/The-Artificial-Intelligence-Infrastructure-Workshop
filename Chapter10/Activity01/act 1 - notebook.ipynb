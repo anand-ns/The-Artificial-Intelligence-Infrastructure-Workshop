{
 "cells": [
  {
   "cell_type": "code",
   "execution_count": 1,
   "metadata": {},
   "outputs": [],
   "source": [
    "import os\n",
    "import json\n",
    "import boto3\n",
    "import shutil\n",
    "import pandas as pd\n",
    "\n",
    "# set your bucket name here\n",
    "# 'ch10-data' is NOT your bucket. It's just an example here\n",
    "# you should replace your bucket below\n",
    "BUCKET_NAME = 'ch10-data'"
   ]
  },
  {
   "cell_type": "code",
   "execution_count": 2,
   "metadata": {},
   "outputs": [
    {
     "data": {
      "text/html": [
       "<div>\n",
       "<style scoped>\n",
       "    .dataframe tbody tr th:only-of-type {\n",
       "        vertical-align: middle;\n",
       "    }\n",
       "\n",
       "    .dataframe tbody tr th {\n",
       "        vertical-align: top;\n",
       "    }\n",
       "\n",
       "    .dataframe thead th {\n",
       "        text-align: right;\n",
       "    }\n",
       "</style>\n",
       "<table border=\"1\" class=\"dataframe\">\n",
       "  <thead>\n",
       "    <tr style=\"text-align: right;\">\n",
       "      <th></th>\n",
       "      <th>Year</th>\n",
       "      <th>Leading Cause</th>\n",
       "      <th>Sex</th>\n",
       "      <th>Race Ethnicity</th>\n",
       "      <th>Deaths</th>\n",
       "      <th>Death Rate</th>\n",
       "      <th>Age Adjusted Death Rate</th>\n",
       "    </tr>\n",
       "  </thead>\n",
       "  <tbody>\n",
       "    <tr>\n",
       "      <th>0</th>\n",
       "      <td>2010</td>\n",
       "      <td>Influenza (Flu) and Pneumonia (J09-J18)</td>\n",
       "      <td>F</td>\n",
       "      <td>Hispanic</td>\n",
       "      <td>228</td>\n",
       "      <td>18.7</td>\n",
       "      <td>23.1</td>\n",
       "    </tr>\n",
       "    <tr>\n",
       "      <th>1</th>\n",
       "      <td>2008</td>\n",
       "      <td>Accidents Except Drug Posioning (V01-X39, X43,...</td>\n",
       "      <td>F</td>\n",
       "      <td>Hispanic</td>\n",
       "      <td>68</td>\n",
       "      <td>5.8</td>\n",
       "      <td>6.6</td>\n",
       "    </tr>\n",
       "    <tr>\n",
       "      <th>2</th>\n",
       "      <td>2013</td>\n",
       "      <td>Accidents Except Drug Posioning (V01-X39, X43,...</td>\n",
       "      <td>M</td>\n",
       "      <td>White Non-Hispanic</td>\n",
       "      <td>271</td>\n",
       "      <td>20.1</td>\n",
       "      <td>17.9</td>\n",
       "    </tr>\n",
       "    <tr>\n",
       "      <th>3</th>\n",
       "      <td>2010</td>\n",
       "      <td>Cerebrovascular Disease (Stroke: I60-I69)</td>\n",
       "      <td>M</td>\n",
       "      <td>Hispanic</td>\n",
       "      <td>140</td>\n",
       "      <td>12.3</td>\n",
       "      <td>21.4</td>\n",
       "    </tr>\n",
       "    <tr>\n",
       "      <th>4</th>\n",
       "      <td>2009</td>\n",
       "      <td>Assault (Homicide: Y87.1, X85-Y09)</td>\n",
       "      <td>M</td>\n",
       "      <td>Black Non-Hispanic</td>\n",
       "      <td>255</td>\n",
       "      <td>30</td>\n",
       "      <td>30</td>\n",
       "    </tr>\n",
       "  </tbody>\n",
       "</table>\n",
       "</div>"
      ],
      "text/plain": [
       "   Year                                      Leading Cause Sex  \\\n",
       "0  2010            Influenza (Flu) and Pneumonia (J09-J18)   F   \n",
       "1  2008  Accidents Except Drug Posioning (V01-X39, X43,...   F   \n",
       "2  2013  Accidents Except Drug Posioning (V01-X39, X43,...   M   \n",
       "3  2010          Cerebrovascular Disease (Stroke: I60-I69)   M   \n",
       "4  2009                 Assault (Homicide: Y87.1, X85-Y09)   M   \n",
       "\n",
       "       Race Ethnicity Deaths Death Rate Age Adjusted Death Rate  \n",
       "0            Hispanic    228       18.7                    23.1  \n",
       "1            Hispanic     68        5.8                     6.6  \n",
       "2  White Non-Hispanic    271       20.1                    17.9  \n",
       "3            Hispanic    140       12.3                    21.4  \n",
       "4  Black Non-Hispanic    255         30                      30  "
      ]
     },
     "execution_count": 2,
     "metadata": {},
     "output_type": "execute_result"
    }
   ],
   "source": [
    "# 1. download data from S3 bucket\n",
    "s3_resource = boto3.resource('s3')\n",
    "try:\n",
    "    s3_resource.Bucket(BUCKET_NAME).download_file(\n",
    "        'New_York_City_Leading_Causes_of_Death.csv', \n",
    "        './tmp/New_York_City_Leading_Causes_of_Death.csv')\n",
    "except FileNotFoundError:\n",
    "    os.mkdir('tmp/')\n",
    "    s3_resource.Bucket(BUCKET_NAME).download_file(\n",
    "        'New_York_City_Leading_Causes_of_Death.csv', \n",
    "        './tmp/New_York_City_Leading_Causes_of_Death.csv')\n",
    "    \n",
    "# read data\n",
    "df_data = pd.read_csv('tmp/New_York_City_Leading_Causes_of_Death.csv')\n",
    "df_data.head()"
   ]
  },
  {
   "cell_type": "code",
   "execution_count": 3,
   "metadata": {},
   "outputs": [
    {
     "data": {
      "text/plain": [
       "Year                         int64\n",
       "Leading Cause               object\n",
       "Sex                         object\n",
       "Race Ethnicity              object\n",
       "Deaths                     float64\n",
       "Death Rate                  object\n",
       "Age Adjusted Death Rate     object\n",
       "dtype: object"
      ]
     },
     "execution_count": 3,
     "metadata": {},
     "output_type": "execute_result"
    }
   ],
   "source": [
    "# 2. replace \".\" with value 0 & and convert to float type\n",
    "df_data_cleaned = df_data.replace('.', 0).astype({'Deaths': float})\n",
    "\n",
    "# check dtypes\n",
    "df_data_cleaned.dtypes"
   ]
  },
  {
   "cell_type": "code",
   "execution_count": 4,
   "metadata": {},
   "outputs": [
    {
     "data": {
      "text/plain": [
       "{'Asian and Pacific Islander': ['Malignant Neoplasms (Cancer: C00-C97)',\n",
       "  'Diseases of Heart (I00-I09, I11, I13, I20-I51)',\n",
       "  'All Other Causes'],\n",
       " 'Black Non-Hispanic': ['Diseases of Heart (I00-I09, I11, I13, I20-I51)',\n",
       "  'Malignant Neoplasms (Cancer: C00-C97)',\n",
       "  'All Other Causes'],\n",
       " 'Hispanic': ['Diseases of Heart (I00-I09, I11, I13, I20-I51)',\n",
       "  'Malignant Neoplasms (Cancer: C00-C97)',\n",
       "  'All Other Causes'],\n",
       " 'Not Stated/Unknown': ['Diseases of Heart (I00-I09, I11, I13, I20-I51)',\n",
       "  'All Other Causes',\n",
       "  'Malignant Neoplasms (Cancer: C00-C97)'],\n",
       " 'Other Race/ Ethnicity': ['Diseases of Heart (I00-I09, I11, I13, I20-I51)',\n",
       "  'Malignant Neoplasms (Cancer: C00-C97)',\n",
       "  'All Other Causes'],\n",
       " 'White Non-Hispanic': ['Diseases of Heart (I00-I09, I11, I13, I20-I51)',\n",
       "  'Malignant Neoplasms (Cancer: C00-C97)',\n",
       "  'All Other Causes']}"
      ]
     },
     "execution_count": 4,
     "metadata": {},
     "output_type": "execute_result"
    }
   ],
   "source": [
    "# 3. get top 3 death causes for each ethnicity\n",
    "top_causes = {}\n",
    "\n",
    "for ethnicity, df_g in df_data_cleaned.groupby(['Race Ethnicity']):\n",
    "    df_top_3_causes = df_g.groupby('Leading Cause')[['Deaths']].sum().sort_values('Deaths', ascending=False).head(3)\n",
    "    top_3_causes = df_top_3_causes.index.values.tolist()\n",
    "    top_causes.update({ethnicity: top_3_causes})\n",
    "    \n",
    "top_causes"
   ]
  },
  {
   "cell_type": "code",
   "execution_count": 5,
   "metadata": {},
   "outputs": [],
   "source": [
    "# 4. dump output data to a JSON file\n",
    "with open('tmp/top_causes_per_ethnicity.json', 'w') as fout:\n",
    "    json.dump(top_causes, fout)\n"
   ]
  },
  {
   "cell_type": "code",
   "execution_count": 6,
   "metadata": {},
   "outputs": [],
   "source": [
    "# 5. upload data to S3\n",
    "s3_resource.Bucket(BUCKET_NAME).upload_file(\n",
    "    'tmp/top_causes_per_ethnicity.json',\n",
    "    'top_causes_per_ethnicity.json')\n",
    "\n",
    "# clean up tmp\n",
    "shutil.rmtree('./tmp')\n"
   ]
  }
 ],
 "metadata": {
  "kernelspec": {
   "display_name": "Python 3",
   "language": "python",
   "name": "python3"
  },
  "language_info": {
   "codemirror_mode": {
    "name": "ipython",
    "version": 3
   },
   "file_extension": ".py",
   "mimetype": "text/x-python",
   "name": "python",
   "nbconvert_exporter": "python",
   "pygments_lexer": "ipython3",
   "version": "3.7.1"
  }
 },
 "nbformat": 4,
 "nbformat_minor": 2
}
