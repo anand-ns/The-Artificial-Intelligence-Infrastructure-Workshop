{
 "cells": [
  {
   "cell_type": "code",
   "execution_count": 1,
   "metadata": {},
   "outputs": [
    {
     "data": {
      "text/html": [
       "<div>\n",
       "<style scoped>\n",
       "    .dataframe tbody tr th:only-of-type {\n",
       "        vertical-align: middle;\n",
       "    }\n",
       "\n",
       "    .dataframe tbody tr th {\n",
       "        vertical-align: top;\n",
       "    }\n",
       "\n",
       "    .dataframe thead th {\n",
       "        text-align: right;\n",
       "    }\n",
       "</style>\n",
       "<table border=\"1\" class=\"dataframe\">\n",
       "  <thead>\n",
       "    <tr style=\"text-align: right;\">\n",
       "      <th></th>\n",
       "      <th>Headline</th>\n",
       "      <th>Label</th>\n",
       "    </tr>\n",
       "  </thead>\n",
       "  <tbody>\n",
       "    <tr>\n",
       "      <td>0</td>\n",
       "      <td>Egypt's top envoy in Iraq confirmed killed</td>\n",
       "      <td>0</td>\n",
       "    </tr>\n",
       "    <tr>\n",
       "      <td>1</td>\n",
       "      <td>Carter: Race relations in Palestine are worse ...</td>\n",
       "      <td>0</td>\n",
       "    </tr>\n",
       "    <tr>\n",
       "      <td>2</td>\n",
       "      <td>After Years Of Dutiful Service, The Shiba Who ...</td>\n",
       "      <td>1</td>\n",
       "    </tr>\n",
       "    <tr>\n",
       "      <td>3</td>\n",
       "      <td>In Books on Two Powerbrokers, Hints of the Future</td>\n",
       "      <td>0</td>\n",
       "    </tr>\n",
       "    <tr>\n",
       "      <td>4</td>\n",
       "      <td>These Horrifyingly Satisfying Photos Of \"Baby ...</td>\n",
       "      <td>1</td>\n",
       "    </tr>\n",
       "    <tr>\n",
       "      <td>...</td>\n",
       "      <td>...</td>\n",
       "      <td>...</td>\n",
       "    </tr>\n",
       "    <tr>\n",
       "      <td>9995</td>\n",
       "      <td>What Is Your Weirdest Fear</td>\n",
       "      <td>1</td>\n",
       "    </tr>\n",
       "    <tr>\n",
       "      <td>9996</td>\n",
       "      <td>Felipe Massa wins 2008 French Grand Prix</td>\n",
       "      <td>0</td>\n",
       "    </tr>\n",
       "    <tr>\n",
       "      <td>9997</td>\n",
       "      <td>Bottled water concerns health experts</td>\n",
       "      <td>0</td>\n",
       "    </tr>\n",
       "    <tr>\n",
       "      <td>9998</td>\n",
       "      <td>Death of Nancy Benoit rumour posted on Wikiped...</td>\n",
       "      <td>0</td>\n",
       "    </tr>\n",
       "    <tr>\n",
       "      <td>9999</td>\n",
       "      <td>US Dept. of Justice IP address blocked after '...</td>\n",
       "      <td>0</td>\n",
       "    </tr>\n",
       "  </tbody>\n",
       "</table>\n",
       "<p>10000 rows × 2 columns</p>\n",
       "</div>"
      ],
      "text/plain": [
       "                                               Headline  Label\n",
       "0            Egypt's top envoy in Iraq confirmed killed      0\n",
       "1     Carter: Race relations in Palestine are worse ...      0\n",
       "2     After Years Of Dutiful Service, The Shiba Who ...      1\n",
       "3     In Books on Two Powerbrokers, Hints of the Future      0\n",
       "4     These Horrifyingly Satisfying Photos Of \"Baby ...      1\n",
       "...                                                 ...    ...\n",
       "9995                         What Is Your Weirdest Fear      1\n",
       "9996           Felipe Massa wins 2008 French Grand Prix      0\n",
       "9997              Bottled water concerns health experts      0\n",
       "9998  Death of Nancy Benoit rumour posted on Wikiped...      0\n",
       "9999  US Dept. of Justice IP address blocked after '...      0\n",
       "\n",
       "[10000 rows x 2 columns]"
      ]
     },
     "execution_count": 1,
     "metadata": {},
     "output_type": "execute_result"
    }
   ],
   "source": [
    "import pandas as pd\n",
    "\n",
    "df = pd.read_csv(\"../Datasets/clickbait-headlines.tsv\", sep=\"\\t\", names=[\"Headline\", \"Label\"])\n",
    "df"
   ]
  },
  {
   "cell_type": "code",
   "execution_count": 2,
   "metadata": {},
   "outputs": [
    {
     "name": "stdout",
     "output_type": "stream",
     "text": [
      "[42, 60, 72, 49, 66, 51, 51, 58, 57, 76]\n",
      "CPU times: user 1.82 s, sys: 50.8 ms, total: 1.87 s\n",
      "Wall time: 1.95 s\n"
     ]
    }
   ],
   "source": [
    "%%time\n",
    "\n",
    "lengths = []\n",
    "\n",
    "for i, row in df.iterrows():\n",
    "    lengths.append(len(row[0]))\n",
    "print(lengths[:10])"
   ]
  },
  {
   "cell_type": "code",
   "execution_count": 3,
   "metadata": {},
   "outputs": [
    {
     "name": "stdout",
     "output_type": "stream",
     "text": [
      "0    42\n",
      "1    60\n",
      "2    72\n",
      "3    49\n",
      "4    66\n",
      "5    51\n",
      "6    51\n",
      "7    58\n",
      "8    57\n",
      "9    76\n",
      "Name: Headline, dtype: int64\n",
      "CPU times: user 6.31 ms, sys: 1.7 ms, total: 8.01 ms\n",
      "Wall time: 7.76 ms\n"
     ]
    }
   ],
   "source": [
    "%%time\n",
    "lengths = df['Headline'].apply(len)\n",
    "print(lengths[:10])"
   ]
  },
  {
   "cell_type": "code",
   "execution_count": 4,
   "metadata": {},
   "outputs": [
    {
     "name": "stdout",
     "output_type": "stream",
     "text": [
      "Mean normal length is 52.0322\n",
      "Mean clickbait length is 55.6876\n",
      "CPU times: user 1.91 s, sys: 40.7 ms, total: 1.95 s\n",
      "Wall time: 2.03 s\n"
     ]
    }
   ],
   "source": [
    "%%time\n",
    "from statistics import mean\n",
    "\n",
    "normal_lengths = []\n",
    "clickbait_lengths = []\n",
    "\n",
    "for i, row in df.iterrows():\n",
    "    if row[1] == 1:  # clickbait\n",
    "        clickbait_lengths.append(len(row[0]))\n",
    "    else:\n",
    "        normal_lengths.append(len(row[0]))\n",
    "\n",
    "print(\"Mean normal length is {}\".format(mean(normal_lengths)))\n",
    "print(\"Mean clickbait length is {}\".format(mean(clickbait_lengths)))"
   ]
  },
  {
   "cell_type": "code",
   "execution_count": 5,
   "metadata": {},
   "outputs": [
    {
     "name": "stdout",
     "output_type": "stream",
     "text": [
      "52.0322\n",
      "55.6876\n",
      "CPU times: user 10.5 ms, sys: 3.14 ms, total: 13.7 ms\n",
      "Wall time: 14 ms\n"
     ]
    }
   ],
   "source": [
    "%%time\n",
    "\n",
    "print(df[df[\"Label\"] == 0]['Headline'].apply(len).mean())\n",
    "print(df[df[\"Label\"] == 1]['Headline'].apply(len).mean())"
   ]
  },
  {
   "cell_type": "code",
   "execution_count": 6,
   "metadata": {},
   "outputs": [
    {
     "name": "stdout",
     "output_type": "stream",
     "text": [
      "Total 'you's in normal headlines 43\n",
      "Total 'you's in clickbait headlines 2527\n",
      "CPU times: user 1.48 s, sys: 8.84 ms, total: 1.49 s\n",
      "Wall time: 1.53 s\n"
     ]
    }
   ],
   "source": [
    "%%time\n",
    "from statistics import mean\n",
    "\n",
    "normal_yous = 0\n",
    "clickbait_yous = 0\n",
    "\n",
    "for i, row in df.iterrows():\n",
    "    num_yous = row[0].lower().count(\"you\")\n",
    "    if row[1] == 1:  # clickbait\n",
    "        clickbait_yous += num_yous\n",
    "    else:\n",
    "        normal_yous += num_yous\n",
    "\n",
    "print(\"Total 'you's in normal headlines {}\".format(normal_yous))\n",
    "print(\"Total 'you's in clickbait headlines {}\".format(clickbait_yous))\n"
   ]
  },
  {
   "cell_type": "code",
   "execution_count": 7,
   "metadata": {},
   "outputs": [
    {
     "name": "stdout",
     "output_type": "stream",
     "text": [
      "43\n",
      "2527\n",
      "CPU times: user 20.8 ms, sys: 1.32 ms, total: 22.1 ms\n",
      "Wall time: 27.9 ms\n"
     ]
    }
   ],
   "source": [
    "%%time\n",
    "print(df[df[\"Label\"] == 0]['Headline'].apply(lambda x: x.lower().count(\"you\")).sum())\n",
    "print(df[df[\"Label\"] == 1]['Headline'].apply(lambda x: x.lower().count(\"you\")).sum())"
   ]
  }
 ],
 "metadata": {
  "kernelspec": {
   "display_name": "Python 3",
   "language": "python",
   "name": "python3"
  },
  "language_info": {
   "codemirror_mode": {
    "name": "ipython",
    "version": 3
   },
   "file_extension": ".py",
   "mimetype": "text/x-python",
   "name": "python",
   "nbconvert_exporter": "python",
   "pygments_lexer": "ipython3",
   "version": "3.7.6"
  }
 },
 "nbformat": 4,
 "nbformat_minor": 2
}
