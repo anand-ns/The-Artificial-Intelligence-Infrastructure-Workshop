{
 "cells": [
  {
   "cell_type": "code",
   "execution_count": 1,
   "metadata": {},
   "outputs": [],
   "source": [
    "%matplotlib inline  \n",
    "\n",
    "import spacy\n",
    "import os\n",
    "import numpy\n",
    "from matplotlib import pyplot as plt\n",
    "from statistics import mean, median"
   ]
  },
  {
   "cell_type": "code",
   "execution_count": 2,
   "metadata": {},
   "outputs": [],
   "source": [
    "nlp = spacy.load('en_core_web_lg')\n",
    "\n",
    "\n",
    "def polarity_good_vs_bad(word):\n",
    "    \"\"\"Returns a positive number if a word is closer to good than it is to bad, or a negative number if vice versa\n",
    "    IN: word (str): the word to compare\n",
    "    OUT: diff (float): positive if the word is closer to good, otherwise negative\n",
    "    \"\"\"\n",
    "\n",
    "    good = nlp(\"good\")\n",
    "    bad = nlp(\"bad\")\n",
    "    word = nlp(word)\n",
    "    if word and word.vector_norm:\n",
    "        sim_good = word.similarity(good)\n",
    "        sim_bad = word.similarity(bad)\n",
    "        diff = sim_good - sim_bad\n",
    "        diff = round(diff * 100, 2)\n",
    "        return diff\n",
    "    else:\n",
    "        return None"
   ]
  },
  {
   "cell_type": "code",
   "execution_count": 3,
   "metadata": {},
   "outputs": [
    {
     "name": "stdout",
     "output_type": "stream",
     "text": [
      "Processing 2000 review files\n",
      "Processing 2000 review files\n"
     ]
    }
   ],
   "source": [
    "review_dataset_dir = \"../Data/aclImdb/train\"\n",
    "\n",
    "pos_scores = []\n",
    "neg_scores = []\n",
    "\n",
    "LIMIT = 2000\n",
    "\n",
    "for pol in (\"pos\", \"neg\"):\n",
    "    review_files = os.listdir(os.path.join(review_dataset_dir, pol))\n",
    "    review_files = review_files[:LIMIT]\n",
    "    print(\"Processing {} review files\".format(len(review_files)))\n",
    "    for i, rf in enumerate(review_files):\n",
    "        with open(os.path.join(review_dataset_dir, os.path.join(pol,rf))) as f:\n",
    "            s = f.read()\n",
    "            score = polarity_good_vs_bad(s)\n",
    "            if pol == \"pos\":\n",
    "                pos_scores.append(score)\n",
    "            elif pol == \"neg\":\n",
    "                neg_scores.append(score)\n",
    "\n"
   ]
  },
  {
   "cell_type": "code",
   "execution_count": 4,
   "metadata": {},
   "outputs": [
    {
     "name": "stdout",
     "output_type": "stream",
     "text": [
      "Mean polarity score of positive reviews: 4.88497\n",
      "Mean polarity score of negative reviews: 3.18847\n",
      "Median polarity score of positive reviews: 4.84\n",
      "Median polarity score of negative reviews: 3.2350000000000003\n"
     ]
    }
   ],
   "source": [
    "mean_pos = mean(pos_scores)\n",
    "mean_neg = mean(neg_scores)\n",
    "med_pos = median(pos_scores)\n",
    "med_neg = median(neg_scores)\n",
    "\n",
    "print(f\"Mean polarity score of positive reviews: {mean_pos}\")\n",
    "print(f\"Mean polarity score of negative reviews: {mean_neg}\")\n",
    "print(f\"Median polarity score of positive reviews: {med_pos}\")\n",
    "print(f\"Median polarity score of negative reviews: {med_neg}\")"
   ]
  },
  {
   "cell_type": "code",
   "execution_count": 5,
   "metadata": {},
   "outputs": [
    {
     "data": {
      "image/png": "[encoded data removed]",
      "text/plain": [
       "<Figure size 432x288 with 1 Axes>"
      ]
     },
     "metadata": {
      "needs_background": "light"
     },
     "output_type": "display_data"
    }
   ],
   "source": [
    "bins = numpy.linspace(-10.0, 10.0, 50)\n",
    "\n",
    "plt.hist(pos_scores, bins, alpha=0.9, label='pos')\n",
    "plt.hist(neg_scores, bins, alpha=0.9, label='neg')\n",
    "plt.legend(loc='upper right')\n",
    "\n",
    "plt.show()"
   ]
  },
  {
   "cell_type": "code",
   "execution_count": 6,
   "metadata": {},
   "outputs": [
    {
     "name": "stdout",
     "output_type": "stream",
     "text": [
      "the movie was good 8.14\n",
      "the movie was not good 6.78\n",
      "good 26.45\n",
      "not 0.33\n",
      "the movie was very good 11.35\n",
      "the movie was very very good 13.27\n",
      "the movie was bad -8.47\n",
      "the movie was very very very bad 5.31\n"
     ]
    }
   ],
   "source": [
    "phrases = [\n",
    "    \"the movie was good\",\n",
    "    \"the movie was not good\",\n",
    "    \"good\",\n",
    "    \"not\",\n",
    "    \"the movie was very good\",\n",
    "    \"the movie was very very good\",\n",
    "    \"the movie was bad\",\n",
    "    \"the movie was very very very bad\"  \n",
    "]\n",
    "\n",
    "for phrase in phrases:\n",
    "    print(phrase, polarity_good_vs_bad(phrase))"
   ]
  }
 ],
 "metadata": {
  "kernelspec": {
   "display_name": "Python 3",
   "language": "python",
   "name": "python3"
  },
  "language_info": {
   "codemirror_mode": {
    "name": "ipython",
    "version": 3
   },
   "file_extension": ".py",
   "mimetype": "text/x-python",
   "name": "python",
   "nbconvert_exporter": "python",
   "pygments_lexer": "ipython3",
   "version": "3.7.6"
  }
 },
 "nbformat": 4,
 "nbformat_minor": 2
}
