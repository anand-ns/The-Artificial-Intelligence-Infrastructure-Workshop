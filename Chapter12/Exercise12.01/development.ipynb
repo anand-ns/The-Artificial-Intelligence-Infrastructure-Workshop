{
 "cells": [
  {
   "cell_type": "markdown",
   "metadata": {},
   "source": [
    "# Exercise 12.1"
   ]
  },
  {
   "cell_type": "markdown",
   "metadata": {},
   "source": [
    "## In machine learning environment: develop, train, and export the model"
   ]
  },
  {
   "cell_type": "code",
   "execution_count": null,
   "metadata": {},
   "outputs": [],
   "source": [
    "!pip install pandas\n",
    "!pip install sklearn"
   ]
  },
  {
   "cell_type": "code",
   "execution_count": null,
   "metadata": {},
   "outputs": [],
   "source": [
    "import pickle\n",
    "import pandas as pd\n",
    "from sklearn.linear_model import LogisticRegression"
   ]
  },
  {
   "cell_type": "code",
   "execution_count": null,
   "metadata": {},
   "outputs": [],
   "source": [
    "# load the datasets\n",
    "train = pd.read_csv('../../Datasets/Titanic/train.csv')\n",
    "train.info()\n",
    "test = pd.read_csv('../../Datasets/Titanic/test.csv')\n",
    "test.info()"
   ]
  },
  {
   "cell_type": "code",
   "execution_count": null,
   "metadata": {},
   "outputs": [],
   "source": [
    "# prepare the dataset\n",
    "train.Sex = train.Sex.map({'male':0, 'female':1})\n",
    "y = train.Survived.copy()  # use the values in the Survived column as output targets\n",
    "X = train.drop(['Survived'], axis=1)\n",
    "X.drop(['Name'], axis=1, inplace=True)\n",
    "X.drop(['Embarked'], axis=1, inplace=True)\n",
    "X.drop(['PassengerId'], axis=1, inplace=True)\n",
    "X.drop(['Cabin'], axis=1, inplace=True)\n",
    "X.drop(['Ticket'], axis=1, inplace=True)\n",
    "X.Age.fillna(X.Age.mean(), inplace=True)\n",
    "X.info()\n",
    "X.head()"
   ]
  },
  {
   "cell_type": "code",
   "execution_count": null,
   "metadata": {},
   "outputs": [],
   "source": [
    "# create and train a simple model\n",
    "from sklearn.linear_model import LogisticRegression\n",
    "model = LogisticRegression()\n",
    "model.fit(X, y)"
   ]
  },
  {
   "cell_type": "code",
   "execution_count": null,
   "metadata": {
    "scrolled": true
   },
   "outputs": [],
   "source": [
    "# evaluate the model\n",
    "model.score(X, y)"
   ]
  },
  {
   "cell_type": "code",
   "execution_count": null,
   "metadata": {},
   "outputs": [],
   "source": [
    "# export the model to pickle file\n",
    "file = open('model.pkl', 'wb')  # write in bytes\n",
    "pickle.dump(model, file)\n",
    "file.close()"
   ]
  }
 ],
 "metadata": {
  "kernelspec": {
   "display_name": "Python 3",
   "language": "python",
   "name": "python3"
  },
  "language_info": {
   "codemirror_mode": {
    "name": "ipython",
    "version": 3
   },
   "file_extension": ".py",
   "mimetype": "text/x-python",
   "name": "python",
   "nbconvert_exporter": "python",
   "pygments_lexer": "ipython3",
   "version": "3.7.4"
  }
 },
 "nbformat": 4,
 "nbformat_minor": 4
}
