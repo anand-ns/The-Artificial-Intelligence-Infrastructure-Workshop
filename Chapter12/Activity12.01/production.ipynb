{
 "cells": [
  {
   "cell_type": "markdown",
   "metadata": {},
   "source": [
    "## In production environment: import, load, and execute the model"
   ]
  },
  {
   "cell_type": "code",
   "execution_count": null,
   "metadata": {},
   "outputs": [],
   "source": [
    "!pip install flask"
   ]
  },
  {
   "cell_type": "code",
   "execution_count": null,
   "metadata": {},
   "outputs": [],
   "source": [
    "from flask import Flask, jsonify, request\n",
    "import pickle"
   ]
  },
  {
   "cell_type": "code",
   "execution_count": null,
   "metadata": {},
   "outputs": [],
   "source": [
    "# load the model from pickle file\n",
    "file = open('model.pkl', 'rb')  # read bytes\n",
    "model = pickle.load(file)\n",
    "file.close()"
   ]
  },
  {
   "cell_type": "code",
   "execution_count": null,
   "metadata": {},
   "outputs": [],
   "source": [
    "# get predictions from the model\n",
    "print(model.predict([[1,0,36,2,0,14.67]]))  # male, survived, low fare\n",
    "print(model.predict([[0,1,42,1,1,96.61]]))  # female, died, high fare"
   ]
  },
  {
   "cell_type": "code",
   "execution_count": null,
   "metadata": {},
   "outputs": [],
   "source": [
    "# create an API with Flask\n",
    "app = Flask('ClassPredictor')\n",
    "\n",
    "# call this: curl -X GET http://127.0.0.1:5000/foo\n",
    "@app.route('/hi', methods=['GET'])\n",
    "def bar():\n",
    "    result = 'hello!'\n",
    "    return result\n",
    "\n",
    "# call this: curl -X POST -H \"Content-Type: application/json\" -d '{\"Survived\": 1, \"Sex\": 0, \"Age\": 72, \"SibSb\": 2, \"Parch\": 0, \"Fare\": 8.35}' http://127.0.0.1:5000/class\n",
    "@app.route('/class', methods=['POST'])\n",
    "def predict_class():\n",
    "    payload = request.get_json()\n",
    "    person = [payload['Survived'], payload['Sex'], payload['Age'], payload['SibSb'], payload['Parch'], payload['Fare']]\n",
    "    result = model.predict([person])\n",
    "    print(f'{person} -> {str(result)}')\n",
    "    return f'I predict that person {person} was in class {result} of the Titanic\\n'\n"
   ]
  },
  {
   "cell_type": "code",
   "execution_count": null,
   "metadata": {
    "scrolled": true
   },
   "outputs": [],
   "source": [
    "app.run()"
   ]
  }
 ],
 "metadata": {
  "kernelspec": {
   "display_name": "Python 3",
   "language": "python",
   "name": "python3"
  },
  "language_info": {
   "codemirror_mode": {
    "name": "ipython",
    "version": 3
   },
   "file_extension": ".py",
   "mimetype": "text/x-python",
   "name": "python",
   "nbconvert_exporter": "python",
   "pygments_lexer": "ipython3",
   "version": "3.7.4"
  }
 },
 "nbformat": 4,
 "nbformat_minor": 4
}
