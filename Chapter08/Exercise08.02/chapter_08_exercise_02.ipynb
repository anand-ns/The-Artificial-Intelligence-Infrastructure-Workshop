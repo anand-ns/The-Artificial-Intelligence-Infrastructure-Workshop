{
 "cells": [
  {
   "cell_type": "code",
   "execution_count": 1,
   "metadata": {},
   "outputs": [],
   "source": [
    "from queue import Queue\n",
    "from threading import Thread\n",
    "import random\n",
    "import time"
   ]
  },
  {
   "cell_type": "code",
   "execution_count": 2,
   "metadata": {},
   "outputs": [],
   "source": [
    "urls = ['url1-', 'url1-', 'url2-', 'url3-', 'url4-', 'url5-', 'url6-', 'url7-', 'url8-', 'url9-', 'url10-']\n",
    "seen = set()\n",
    "\n",
    "url_queue = Queue()\n",
    "for url in urls:\n",
    "    url_queue.put(url)\n",
    "\n"
   ]
  },
  {
   "cell_type": "code",
   "execution_count": 3,
   "metadata": {},
   "outputs": [],
   "source": [
    "scraped_queue = Queue()\n",
    "cleaned_queue = Queue()\n",
    "deduplicated_queue = Queue()"
   ]
  },
  {
   "cell_type": "code",
   "execution_count": 4,
   "metadata": {},
   "outputs": [],
   "source": [
    "def scraper():\n",
    "    while True:\n",
    "        time.sleep(random.randrange(0,2))\n",
    "        url = url_queue.get()\n",
    "        print(\"Scraping {}\".format(url))\n",
    "        scraped_queue.put(url[3:])"
   ]
  },
  {
   "cell_type": "code",
   "execution_count": 5,
   "metadata": {},
   "outputs": [],
   "source": [
    "def cleaner():\n",
    "    while True:\n",
    "        time.sleep(random.randrange(2,4))\n",
    "        raw = scraped_queue.get()\n",
    "        print(\"Cleaning {}\".format(raw))\n",
    "        cleaned_queue.put(raw.replace(\"-\", \"\"))\n",
    "        \n",
    "def deduplicator():\n",
    "     while True:\n",
    "        time.sleep(random.randrange(4,6))\n",
    "        cleaned = cleaned_queue.get()\n",
    "        print(\"Deduplicating {}\".format(cleaned))\n",
    "        if cleaned not in seen:\n",
    "            deduplicated_queue.put(cleaned)\n",
    "            seen.add(cleaned)\n"
   ]
  },
  {
   "cell_type": "code",
   "execution_count": 6,
   "metadata": {},
   "outputs": [],
   "source": [
    "scraper_worker = Thread(target=scraper)\n",
    "cleaner_worker = Thread(target=cleaner)\n",
    "deduplicator_worker = Thread(target=deduplicator)"
   ]
  },
  {
   "cell_type": "code",
   "execution_count": 7,
   "metadata": {},
   "outputs": [
    {
     "data": {
      "text/plain": [
       "[None, None, None]"
      ]
     },
     "execution_count": 7,
     "metadata": {},
     "output_type": "execute_result"
    },
    {
     "name": "stdout",
     "output_type": "stream",
     "text": [
      "Scraping url1-\n",
      "Scraping url1-\n",
      "Cleaning 1-\n",
      "Scraping url2-\n",
      "Scraping url3-\n",
      "Scraping url4-\n",
      "Scraping url5-\n",
      "Scraping url6-\n",
      "Scraping url7-\n",
      "Scraping url8-\n"
     ]
    }
   ],
   "source": [
    "threads = [\n",
    "    scraper_worker, cleaner_worker, deduplicator_worker\n",
    "]\n",
    "\n",
    "[t.start() for t in threads]"
   ]
  }
 ],
 "metadata": {
  "kernelspec": {
   "display_name": "Python 3",
   "language": "python",
   "name": "python3"
  },
  "language_info": {
   "codemirror_mode": {
    "name": "ipython",
    "version": 3
   },
   "file_extension": ".py",
   "mimetype": "text/x-python",
   "name": "python",
   "nbconvert_exporter": "python",
   "pygments_lexer": "ipython3",
   "version": "3.7.6"
  }
 },
 "nbformat": 4,
 "nbformat_minor": 2
}
