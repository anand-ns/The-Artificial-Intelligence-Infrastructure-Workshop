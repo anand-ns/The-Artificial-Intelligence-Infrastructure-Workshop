{
 "cells": [
  {
   "cell_type": "code",
   "execution_count": 5,
   "metadata": {},
   "outputs": [],
   "source": [
    "uber_url = \"https://www.reuters.com/article/us-uber-lawsuit-california/uber-is-sued-over-resistance-to-california-gig-employment-law-idUSKCN1VX1VE\"\n",
    "apple_url = \"https://www.reuters.com/article/us-apple-macbook/apple-refreshes-macbook-pro-laptop-with-16-inch-screen-idUSKBN1XN1V8\"\n",
    "apple_url2 = \"https://www.reuters.com/article/us-apple-macbook/apple-refreshes-macbook-pro-laptop-with-16-inch-screen-idUSKBN1XN1V8\"\n",
    "\n",
    "article_urls = [uber_url, apple_url, apple_url2]"
   ]
  },
  {
   "cell_type": "code",
   "execution_count": 4,
   "metadata": {},
   "outputs": [],
   "source": [
    "import requests\n",
    "import string\n",
    "from collections import Counter"
   ]
  },
  {
   "cell_type": "code",
   "execution_count": null,
   "metadata": {},
   "outputs": [],
   "source": [
    "class Scraper:\n",
    "        \n",
    "    def fetch_news(self, urls):\n",
    "        article_contents = []\n",
    "        for url in urls:\n",
    "            try:\n",
    "                contents = requests.get(url).text\n",
    "                article_contents.append(contents)\n",
    "            except Exception as e:\n",
    "                print(e)\n",
    "        return article_contents"
   ]
  },
  {
   "cell_type": "code",
   "execution_count": 6,
   "metadata": {},
   "outputs": [],
   "source": [
    "def is_clean(word):\n",
    "    blacklist = {\"var\", \"img\", \"e\", \"void\"}\n",
    "    if not word:\n",
    "        return False\n",
    "    if word in blacklist:\n",
    "        return False\n",
    "    for i, letter in enumerate(word):\n",
    "        if i > 0 and letter in string.ascii_uppercase:\n",
    "            return False\n",
    "        if letter not in string.ascii_letters:\n",
    "            return False\n",
    "    return True"
   ]
  },
  {
   "cell_type": "code",
   "execution_count": 10,
   "metadata": {},
   "outputs": [],
   "source": [
    "class Cleaner:\n",
    "    \n",
    "    def clean_articles(self, articles):\n",
    "        clean_articles = []\n",
    "\n",
    "        for article in articles:\n",
    "            clean_words = []\n",
    "            try:\n",
    "                for word in article.split(\" \"):\n",
    "                    if is_clean(word):\n",
    "                        clean_words.append(word)\n",
    "            except Exception as e:\n",
    "                print(e)\n",
    "            clean_articles.append(' '.join(clean_words))\n",
    "        return clean_articles"
   ]
  },
  {
   "cell_type": "code",
   "execution_count": 11,
   "metadata": {},
   "outputs": [],
   "source": [
    "class Deduplicator:\n",
    "    \n",
    "    def deduplicate_articles(self, articles):\n",
    "        seen_articles = set()\n",
    "        deduplicated_articles = []\n",
    "        for article in articles:\n",
    "            if hash(article) in seen_articles:\n",
    "                continue\n",
    "            else:\n",
    "                seen_articles.add(hash(article))\n",
    "                deduplicated_articles.append(article)\n",
    "                    \n",
    "        return deduplicated_articles"
   ]
  },
  {
   "cell_type": "code",
   "execution_count": 12,
   "metadata": {},
   "outputs": [],
   "source": [
    "class Analyzer:\n",
    "    good_words = {\"unveiled\", \"available\", \"faster\", \"stable\"}\n",
    "    bad_words = {\"sued\", \"defiance\", \"violation\"}\n",
    "\n",
    "    def extract_entities_and_sentiment(self, articles):\n",
    "        entity_score_pairs = []\n",
    "        for article in articles:\n",
    "            score = 0\n",
    "            entities = []\n",
    "            for word in article.split(\" \"):\n",
    "                if word[0] == word[0].upper():\n",
    "                    entities.append(word)\n",
    "                if word.lower() in self.good_words:\n",
    "                    score += 1\n",
    "                elif word.lower() in self.bad_words:\n",
    "                    score -= 1\n",
    "            main_entities = [i[0] for i in Counter(entities).most_common(2)]\n",
    "            entity_score_pair = (main_entities, score)\n",
    "            entity_score_pairs.append(entity_score_pair)\n",
    "        return entity_score_pairs"
   ]
  },
  {
   "cell_type": "code",
   "execution_count": 14,
   "metadata": {},
   "outputs": [],
   "source": [
    "class DecisionMaker:\n",
    "    target_companies = set(['Apple', 'Uber', 'Google'])\n",
    "        \n",
    "    def make_decisions(self, entity_score_pairs):\n",
    "        decisions = []\n",
    "        for entities, score in entity_score_pairs:\n",
    "            for entity in entities:\n",
    "                if entity in self.target_companies:\n",
    "                    quantity = abs(score)\n",
    "                    order = \"Buy\" if score > 0 else \"Sell\"\n",
    "                    decision = (order, quantity, entity)\n",
    "                    decisions.append(decision)\n",
    "        return decisions"
   ]
  },
  {
   "cell_type": "code",
   "execution_count": 15,
   "metadata": {},
   "outputs": [],
   "source": [
    "scraper = Scraper()\n",
    "cleaner = Cleaner()\n",
    "deduplicator = Deduplicator()\n",
    "analyzer = Analyzer()\n",
    "decision_maker = DecisionMaker()"
   ]
  },
  {
   "cell_type": "code",
   "execution_count": 19,
   "metadata": {},
   "outputs": [
    {
     "data": {
      "text/plain": [
       "'<!--[if !IE]> This has been served from cache <![endif]-->\\n<!--[if !IE]> Request served from apache server: produs--i-0a4a08336159d88d2 <![endif]-->\\n<!--[if !IE]> Cached on Wed, 26 Feb 2020 23:01:28 GMT and will expire on Wed, 26 Feb 2020 23:16:19 GMT <![endif]-->\\n<!--[if !IE]> token: f9fd82a6-e004-4871-85e1-63089475bceb <![endif]-->\\n<!--[if !IE]> App Server /produs--i-0655f4557687834a5/ <![endif]-->\\n\\n<!doctype html><html lang=\"en\" data-edition=\"BETAUS\">\\n    <head>\\n\\n    <title>\\n                U'"
      ]
     },
     "execution_count": 19,
     "metadata": {},
     "output_type": "execute_result"
    }
   ],
   "source": [
    "contents = scraper.fetch_news(article_urls)\n",
    "contents[0][:500]"
   ]
  },
  {
   "cell_type": "code",
   "execution_count": 22,
   "metadata": {},
   "outputs": [
    {
     "data": {
      "text/plain": [
       "'This has been served from cache Request served from apache Cached on Feb and will expire on Feb App Server Uber is sued over resistance to California employment law Segment snippet included if Page hiding snippet Data Layer Object Declaration New Google Tag Manager new End Google Tag Manager new driver for Uber has sued the company for misclassifying its drivers as independent hours after California legislators voted to help thousands of those workers and enjoy the benefits of produced in Proces'"
      ]
     },
     "execution_count": 22,
     "metadata": {},
     "output_type": "execute_result"
    }
   ],
   "source": [
    "clean_articles = cleaner.clean_articles(contents)\n",
    "clean_articles[0][:500]"
   ]
  },
  {
   "cell_type": "code",
   "execution_count": 25,
   "metadata": {},
   "outputs": [
    {
     "name": "stdout",
     "output_type": "stream",
     "text": [
      "3\n",
      "2\n"
     ]
    }
   ],
   "source": [
    "print(len(clean_articles))\n",
    "deduplicated = deduplicator.deduplicate_articles(clean_articles)\n",
    "print(len(deduplicated))"
   ]
  },
  {
   "cell_type": "code",
   "execution_count": 27,
   "metadata": {},
   "outputs": [
    {
     "name": "stdout",
     "output_type": "stream",
     "text": [
      "[(['Uber', 'California'], -18), (['Pro', 'Apple'], 16)]\n"
     ]
    }
   ],
   "source": [
    "entity_score_pairs = analyzer.extract_entities_and_sentiment(deduplicated)\n",
    "print(entity_score_pairs)"
   ]
  },
  {
   "cell_type": "code",
   "execution_count": 30,
   "metadata": {},
   "outputs": [
    {
     "name": "stdout",
     "output_type": "stream",
     "text": [
      "[('Sell', 18, 'Uber'), ('Buy', 16, 'Apple')]\n"
     ]
    }
   ],
   "source": [
    "decisions = decision_maker.make_decisions(entity_score_pairs)\n",
    "print(decisions)"
   ]
  }
 ],
 "metadata": {
  "kernelspec": {
   "display_name": "Python 3",
   "language": "python",
   "name": "python3"
  },
  "language_info": {
   "codemirror_mode": {
    "name": "ipython",
    "version": 3
   },
   "file_extension": ".py",
   "mimetype": "text/x-python",
   "name": "python",
   "nbconvert_exporter": "python",
   "pygments_lexer": "ipython3",
   "version": "3.7.6"
  }
 },
 "nbformat": 4,
 "nbformat_minor": 2
}
