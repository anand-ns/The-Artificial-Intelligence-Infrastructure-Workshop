{
 "cells": [
  {
   "cell_type": "code",
   "execution_count": 1,
   "metadata": {},
   "outputs": [],
   "source": [
    "# import modules\n",
    "import numpy as np\n",
    "import torch\n",
    "import torch.optim as optim\n",
    "import torch.nn as nn\n",
    "from torch.utils.data import DataLoader, TensorDataset, random_split\n",
    "import matplotlib.pyplot as plt\n",
    "\n",
    "plt.style.use('ggplot')\n",
    "device = 'cuda' if torch.cuda.is_available() else 'cpu'"
   ]
  },
  {
   "cell_type": "code",
   "execution_count": 2,
   "metadata": {},
   "outputs": [],
   "source": [
    "# generate synthetic data for linear regression\n",
    "# set random seed\n",
    "np.random.seed(9)\n",
    "# draw 100 random numbers from uniform dist [0, 1]\n",
    "x = np.random.uniform(0, 1, (100, 1))\n",
    "# draw random noise from standard normal\n",
    "z = np.random.normal(0, .1, (100, 1))\n",
    "# create ground truth for y = 8x - 3\n",
    "y = 3 * x - 1 + z"
   ]
  },
  {
   "cell_type": "code",
   "execution_count": 3,
   "metadata": {},
   "outputs": [
    {
     "name": "stdout",
     "output_type": "stream",
     "text": [
      "(tensor([0.0104]), tensor([-1.0155]))\n"
     ]
    }
   ],
   "source": [
    "# move data from numpy to torch\n",
    "x_tensor = torch.from_numpy(x).float().to(device)\n",
    "y_tensor = torch.from_numpy(y).float().to(device)\n",
    "# create tensor dataset from tensor\n",
    "dataset = TensorDataset(x_tensor, y_tensor)\n",
    "print(dataset[0])"
   ]
  },
  {
   "cell_type": "code",
   "execution_count": 4,
   "metadata": {},
   "outputs": [],
   "source": [
    "# split data into train and eval\n",
    "train_dataset, val_dataset = random_split(dataset, [80, 20])\n",
    "# create data loader\n",
    "train_loader = DataLoader(dataset=train_dataset, batch_size=8)\n",
    "val_loader = DataLoader(dataset=val_dataset, batch_size=10)"
   ]
  },
  {
   "cell_type": "code",
   "execution_count": 5,
   "metadata": {},
   "outputs": [],
   "source": [
    "# define our linear regression model in pytorch\n",
    "class LinearRegression(nn.Module):\n",
    "    def __init__(self):\n",
    "        super().__init__()\n",
    "        self.linear = nn.Linear(1, 1)\n",
    "                \n",
    "    def forward(self, x):\n",
    "        return self.linear(x)"
   ]
  },
  {
   "cell_type": "code",
   "execution_count": 6,
   "metadata": {},
   "outputs": [
    {
     "name": "stdout",
     "output_type": "stream",
     "text": [
      "OrderedDict([('linear.weight', tensor([[-0.9747]])), ('linear.bias', tensor([0.8959]))])\n"
     ]
    }
   ],
   "source": [
    "# initialize our model\n",
    "model = LinearRegression().to(device)\n",
    "# state_dict() contains the parameters of the model\n",
    "print(model.state_dict())"
   ]
  },
  {
   "cell_type": "code",
   "execution_count": 7,
   "metadata": {},
   "outputs": [],
   "source": [
    "# set training routine\n",
    "lr = 1e-1\n",
    "n_epochs = 50\n",
    "\n",
    "# create loss function and optimizer\n",
    "loss_fn = nn.MSELoss(reduction='mean')\n",
    "optimizer = optim.SGD(model.parameters(), lr=lr)"
   ]
  },
  {
   "cell_type": "code",
   "execution_count": 8,
   "metadata": {},
   "outputs": [],
   "source": [
    "def train_one_batch(model, loss_fn, optimizer, x_batch, y_batch):\n",
    "    model.train()\n",
    "    # forward pass\n",
    "    yhat = model(x_batch)\n",
    "    # calculate training loss\n",
    "    loss = loss_fn(y_batch, yhat)\n",
    "    # gradient descend\n",
    "    loss.backward()    \n",
    "    optimizer.step()\n",
    "    optimizer.zero_grad()\n",
    "    return loss.item()"
   ]
  },
  {
   "cell_type": "code",
   "execution_count": 9,
   "metadata": {},
   "outputs": [
    {
     "name": "stdout",
     "output_type": "stream",
     "text": [
      "[ epoch ] 0\n",
      "[ training ] training loss = 1.1215528815984726\n",
      "[ eval ] validation loss = 1.0084198415279388\n",
      "[ epoch ] 1\n",
      "[ training ] training loss = 0.8764605939388275\n",
      "[ eval ] validation loss = 0.7767042815685272\n",
      "[ epoch ] 2\n",
      "[ training ] training loss = 0.686298654973507\n",
      "[ eval ] validation loss = 0.5973736941814423\n",
      "[ epoch ] 3\n",
      "[ training ] training loss = 0.5379058629274368\n",
      "[ eval ] validation loss = 0.4587131291627884\n",
      "[ epoch ] 4\n",
      "[ training ] training loss = 0.42206495851278303\n",
      "[ eval ] validation loss = 0.3516424596309662\n",
      "[ epoch ] 5\n",
      "[ training ] training loss = 0.33163179606199267\n",
      "[ eval ] validation loss = 0.2690941244363785\n",
      "[ epoch ] 6\n",
      "[ training ] training loss = 0.26103226840496063\n",
      "[ eval ] validation loss = 0.2055673971772194\n",
      "[ epoch ] 7\n",
      "[ training ] training loss = 0.20591538324952124\n",
      "[ eval ] validation loss = 0.15678245574235916\n",
      "[ epoch ] 8\n",
      "[ training ] training loss = 0.16288483403623105\n",
      "[ eval ] validation loss = 0.11941111087799072\n",
      "[ epoch ] 9\n",
      "[ training ] training loss = 0.1292893834412098\n",
      "[ eval ] validation loss = 0.09086622297763824\n",
      "[ epoch ] 10\n",
      "[ training ] training loss = 0.10305950455367566\n",
      "[ eval ] validation loss = 0.06913801096379757\n",
      "[ epoch ] 11\n",
      "[ training ] training loss = 0.0825796402990818\n",
      "[ eval ] validation loss = 0.052666252478957176\n",
      "[ epoch ] 12\n",
      "[ training ] training loss = 0.06658874992281198\n",
      "[ eval ] validation loss = 0.04024062305688858\n",
      "[ epoch ] 13\n",
      "[ training ] training loss = 0.05410236418247223\n",
      "[ eval ] validation loss = 0.030922955833375454\n",
      "[ epoch ] 14\n",
      "[ training ] training loss = 0.04435199005529285\n",
      "[ eval ] validation loss = 0.023986758198589087\n",
      "[ epoch ] 15\n",
      "[ training ] training loss = 0.03673768835142255\n",
      "[ eval ] validation loss = 0.018870259635150433\n",
      "[ epoch ] 16\n",
      "[ training ] training loss = 0.03079113457351923\n",
      "[ eval ] validation loss = 0.015139473835006356\n",
      "[ epoch ] 17\n",
      "[ training ] training loss = 0.026146756950765848\n",
      "[ eval ] validation loss = 0.012459676014259458\n",
      "[ epoch ] 18\n",
      "[ training ] training loss = 0.022519111912697554\n",
      "[ eval ] validation loss = 0.010573190869763494\n",
      "[ epoch ] 19\n",
      "[ training ] training loss = 0.01968537513166666\n",
      "[ eval ] validation loss = 0.009282008744776249\n",
      "[ epoch ] 20\n",
      "[ training ] training loss = 0.017471578111872076\n",
      "[ eval ] validation loss = 0.008434370392933488\n",
      "[ epoch ] 21\n",
      "[ training ] training loss = 0.01574189942330122\n",
      "[ eval ] validation loss = 0.007914289948530495\n",
      "[ epoch ] 22\n",
      "[ training ] training loss = 0.014390314556658268\n",
      "[ eval ] validation loss = 0.0076333952601999044\n",
      "[ epoch ] 23\n",
      "[ training ] training loss = 0.013334015104919671\n",
      "[ eval ] validation loss = 0.007524628657847643\n",
      "[ epoch ] 24\n",
      "[ training ] training loss = 0.012508355686441064\n",
      "[ eval ] validation loss = 0.0075373409781605005\n",
      "[ epoch ] 25\n",
      "[ training ] training loss = 0.011862863879650831\n",
      "[ eval ] validation loss = 0.007633511908352375\n",
      "[ epoch ] 26\n",
      "[ training ] training loss = 0.011358112096786499\n",
      "[ eval ] validation loss = 0.007784783141687512\n",
      "[ epoch ] 27\n",
      "[ training ] training loss = 0.010963345086202026\n",
      "[ eval ] validation loss = 0.007970171282067895\n",
      "[ epoch ] 28\n",
      "[ training ] training loss = 0.01065449700690806\n",
      "[ eval ] validation loss = 0.008174353512004018\n",
      "[ epoch ] 29\n",
      "[ training ] training loss = 0.010412809764966368\n",
      "[ eval ] validation loss = 0.008386282483115792\n",
      "[ epoch ] 30\n",
      "[ training ] training loss = 0.010223603900521993\n",
      "[ eval ] validation loss = 0.008598131593316793\n",
      "[ epoch ] 31\n",
      "[ training ] training loss = 0.010075445380061865\n",
      "[ eval ] validation loss = 0.008804507087916136\n",
      "[ epoch ] 32\n",
      "[ training ] training loss = 0.0099593719933182\n",
      "[ eval ] validation loss = 0.009001833852380514\n",
      "[ epoch ] 33\n",
      "[ training ] training loss = 0.009868387039750815\n",
      "[ eval ] validation loss = 0.009187875781208277\n",
      "[ epoch ] 34\n",
      "[ training ] training loss = 0.009797036158852279\n",
      "[ eval ] validation loss = 0.00936137605458498\n",
      "[ epoch ] 35\n",
      "[ training ] training loss = 0.009741056337952613\n",
      "[ eval ] validation loss = 0.009521798230707645\n",
      "[ epoch ] 36\n",
      "[ training ] training loss = 0.009697088203392924\n",
      "[ eval ] validation loss = 0.009669105987995863\n",
      "[ epoch ] 37\n",
      "[ training ] training loss = 0.009662548126652837\n",
      "[ eval ] validation loss = 0.009803581051528454\n",
      "[ epoch ] 38\n",
      "[ training ] training loss = 0.009635385288856924\n",
      "[ eval ] validation loss = 0.0099257817491889\n",
      "[ epoch ] 39\n",
      "[ training ] training loss = 0.009614001144655049\n",
      "[ eval ] validation loss = 0.010036394000053406\n",
      "[ epoch ] 40\n",
      "[ training ] training loss = 0.009597151773050427\n",
      "[ eval ] validation loss = 0.010136179625988007\n",
      "[ epoch ] 41\n",
      "[ training ] training loss = 0.009583865874446929\n",
      "[ eval ] validation loss = 0.010225966107100248\n",
      "[ epoch ] 42\n",
      "[ training ] training loss = 0.009573364863172174\n",
      "[ eval ] validation loss = 0.010306545533239841\n",
      "[ epoch ] 43\n",
      "[ training ] training loss = 0.009565063240006565\n",
      "[ eval ] validation loss = 0.010378723032772541\n",
      "[ epoch ] 44\n",
      "[ training ] training loss = 0.009558481303974986\n",
      "[ eval ] validation loss = 0.010443262290209532\n",
      "[ epoch ] 45\n",
      "[ training ] training loss = 0.009553260239772498\n",
      "[ eval ] validation loss = 0.010500878561288118\n",
      "[ epoch ] 46\n",
      "[ training ] training loss = 0.009549114271067083\n",
      "[ eval ] validation loss = 0.010552239138633013\n",
      "[ epoch ] 47\n",
      "[ training ] training loss = 0.009545810241252183\n",
      "[ eval ] validation loss = 0.010597990360110998\n",
      "[ epoch ] 48\n",
      "[ training ] training loss = 0.009543169708922505\n",
      "[ eval ] validation loss = 0.010638704989105463\n",
      "[ epoch ] 49\n",
      "[ training ] training loss = 0.009541058051399886\n",
      "[ eval ] validation loss = 0.010674883145838976\n",
      "OrderedDict([('linear.weight', tensor([[3.0278]])), ('linear.bias', tensor([-1.0106]))])\n"
     ]
    }
   ],
   "source": [
    "# train model\n",
    "losses = []\n",
    "val_losses = []\n",
    "for epoch in range(n_epochs):\n",
    "    print(\"[ epoch ]\", epoch)\n",
    "    tmp_losses = []\n",
    "    for idx, (x_batch, y_batch) in enumerate(train_loader, 1):\n",
    "        x_batch = x_batch.to(device)\n",
    "        y_batch = y_batch.to(device)\n",
    "        loss = train_one_batch(model, loss_fn, optimizer, x_batch, y_batch)\n",
    "        tmp_losses.append(loss)\n",
    "    print(\"[ training ] training loss = {}\".format(sum(tmp_losses)/idx))\n",
    "    losses.append(sum(tmp_losses)/idx)\n",
    "    # eval\n",
    "    with torch.no_grad():\n",
    "        # set eval mode\n",
    "        model.eval()\n",
    "        tmp_val_losses = []\n",
    "        for idx, (x_batch, y_batch) in enumerate(val_loader, 1):\n",
    "            x_batch = x_batch.to(device)\n",
    "            y_batch = y_batch.to(device)\n",
    "            yhat = model(x_batch)\n",
    "            tmp_val_losses.append(loss_fn(y_batch, yhat).item())\n",
    "        print(\"[ eval ] validation loss = {}\".format(sum(tmp_val_losses)/idx))\n",
    "        val_losses.append(sum(tmp_val_losses)/idx)\n",
    "        \n",
    "print(model.state_dict())"
   ]
  },
  {
   "cell_type": "code",
   "execution_count": 10,
   "metadata": {},
   "outputs": [
    {
     "data": {
      "image/png": "[encoded data removed]",
      "text/plain": [
       "<Figure size 432x288 with 1 Axes>"
      ]
     },
     "metadata": {},
     "output_type": "display_data"
    }
   ],
   "source": [
    "plt.scatter(range(n_epochs), losses, label='train_loss', color='b')\n",
    "plt.scatter(range(n_epochs), val_losses, label='val_loss', color='r')\n",
    "plt.legend()\n",
    "plt.title('Loss')\n",
    "plt.xlabel('epochs')\n",
    "plt.ylabel('mse')\n",
    "plt.tight_layout()"
   ]
  }
 ],
 "metadata": {
  "kernelspec": {
   "display_name": "Python 3.6.10 64-bit ('pytorch_p36': conda)",
   "language": "python",
   "name": "python361064bitpytorchp36conda143b13e29122453f97130b8bdfe91e87"
  },
  "language_info": {
   "codemirror_mode": {
    "name": "ipython",
    "version": 3
   },
   "file_extension": ".py",
   "mimetype": "text/x-python",
   "name": "python",
   "nbconvert_exporter": "python",
   "pygments_lexer": "ipython3",
   "version": "3.6.10"
  }
 },
 "nbformat": 4,
 "nbformat_minor": 2
}
